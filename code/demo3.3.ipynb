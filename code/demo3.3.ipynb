{
 "cells": [
  {
   "cell_type": "code",
   "execution_count": 1,
   "id": "16d621a7-2dce-4bba-85e2-a66083b174c1",
   "metadata": {},
   "outputs": [],
   "source": [
    "import numpy as np\n",
    "import torch\n",
    "from torch.utils import data\n",
    "from d2l import torch as d2l\n",
    "\n",
    "true_w = torch.tensor([2, -3.4])\n",
    "true_b = 4.2\n",
    "features, labels = d2l.synthetic_data(true_w, true_b, 1000)"
   ]
  },
  {
   "cell_type": "code",
   "execution_count": 2,
   "id": "5864346b-6220-4e61-a77e-d1a645499a6f",
   "metadata": {},
   "outputs": [],
   "source": [
    "def load_array(data_arrays, batch_size, is_train=True):\n",
    "    dataset = data.TensorDataset(*data_arrays)\n",
    "    return data.DataLoader(dataset, batch_size, shuffle=is_train)\n",
    "\n",
    "batch_size = 10\n",
    "data_iter = load_array((features, labels),batch_size)"
   ]
  },
  {
   "cell_type": "code",
   "execution_count": 3,
   "id": "0843939e-b746-4cef-b5dc-3a8368b907bd",
   "metadata": {},
   "outputs": [
    {
     "data": {
      "text/plain": [
       "[tensor([[-0.7521, -1.0623],\n",
       "         [-0.5902, -0.7219],\n",
       "         [-0.8587, -0.3118],\n",
       "         [-0.1925, -0.8828],\n",
       "         [-1.0659,  0.1653],\n",
       "         [-1.3650,  1.5528],\n",
       "         [-0.1028,  0.7411],\n",
       "         [ 1.5886, -1.3354],\n",
       "         [-1.5303, -0.5149],\n",
       "         [-1.1097, -1.2090]]),\n",
       " tensor([[ 6.3047],\n",
       "         [ 5.4835],\n",
       "         [ 3.5469],\n",
       "         [ 6.7967],\n",
       "         [ 1.5058],\n",
       "         [-3.8047],\n",
       "         [ 1.4603],\n",
       "         [11.9133],\n",
       "         [ 2.8886],\n",
       "         [ 6.0864]])]"
      ]
     },
     "execution_count": 3,
     "metadata": {},
     "output_type": "execute_result"
    }
   ],
   "source": [
    "next(iter(data_iter))"
   ]
  },
  {
   "cell_type": "code",
   "execution_count": 4,
   "id": "e9c03ee1-5d25-487c-8a7a-bfb2a59ec635",
   "metadata": {},
   "outputs": [],
   "source": [
    "from torch import nn\n",
    "net = nn.Sequential(nn.Linear(2, 1))"
   ]
  },
  {
   "cell_type": "code",
   "execution_count": 6,
   "id": "5f6335c5-783b-42ea-965c-1cea9bd6becd",
   "metadata": {},
   "outputs": [
    {
     "data": {
      "text/plain": [
       "tensor([0.])"
      ]
     },
     "execution_count": 6,
     "metadata": {},
     "output_type": "execute_result"
    }
   ],
   "source": [
    "net[0].weight.data.normal_(0, 0.01)\n",
    "net[0].bias.data.fill_(0)"
   ]
  },
  {
   "cell_type": "code",
   "execution_count": 7,
   "id": "18edf9e9-5134-4c0b-9e13-e8c3af67ce2d",
   "metadata": {},
   "outputs": [],
   "source": [
    "loss = nn.MSELoss()"
   ]
  },
  {
   "cell_type": "code",
   "execution_count": 8,
   "id": "2187d715-941a-4c28-aee2-4c50533cfbfd",
   "metadata": {},
   "outputs": [],
   "source": [
    "trainer = torch.optim.SGD(net.parameters(), lr=0.03)"
   ]
  },
  {
   "cell_type": "code",
   "execution_count": 9,
   "id": "ff964d23-4c7e-45f4-a672-fc196cd46560",
   "metadata": {},
   "outputs": [
    {
     "name": "stdout",
     "output_type": "stream",
     "text": [
      "epoch 1 loss0.000228\n",
      "epoch 2 loss0.000108\n",
      "epoch 3 loss0.000107\n"
     ]
    }
   ],
   "source": [
    "num_epochs = 3\n",
    "for  epoch in range(num_epochs):\n",
    "    for X, y in data_iter:\n",
    "        l = loss(net(X), y)\n",
    "        trainer.zero_grad()\n",
    "        l.backward()\n",
    "        trainer.step()\n",
    "    l = loss(net(features), labels)\n",
    "    print(f'epoch {epoch + 1} loss{l:f}')"
   ]
  },
  {
   "cell_type": "code",
   "execution_count": 10,
   "id": "831d4c50-5d4d-4da3-972f-498438c3f11b",
   "metadata": {},
   "outputs": [
    {
     "name": "stdout",
     "output_type": "stream",
     "text": [
      "w的估计误差： tensor([0.0002, 0.0012])\n",
      "b的估计误差： tensor([0.0005])\n"
     ]
    }
   ],
   "source": [
    "w = net[0].weight.data\n",
    "print('w的估计误差：', true_w - w.reshape(true_w.shape))\n",
    "b = net[0].bias.data\n",
    "print('b的估计误差：', true_b - b)"
   ]
  },
  {
   "cell_type": "code",
   "execution_count": null,
   "id": "37637107-7638-4970-b0f9-0b05a3b52ac8",
   "metadata": {},
   "outputs": [],
   "source": []
  }
 ],
 "metadata": {
  "kernelspec": {
   "display_name": "Python 3 (ipykernel)",
   "language": "python",
   "name": "python3"
  },
  "language_info": {
   "codemirror_mode": {
    "name": "ipython",
    "version": 3
   },
   "file_extension": ".py",
   "mimetype": "text/x-python",
   "name": "python",
   "nbconvert_exporter": "python",
   "pygments_lexer": "ipython3",
   "version": "3.12.4"
  }
 },
 "nbformat": 4,
 "nbformat_minor": 5
}
