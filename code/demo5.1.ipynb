{
 "cells": [
  {
   "cell_type": "code",
   "execution_count": 1,
   "id": "b1ece16c-d7fa-4aa3-abc9-ae1028273d07",
   "metadata": {},
   "outputs": [
    {
     "data": {
      "text/plain": [
       "tensor([[ 0.2515, -0.0593, -0.0560, -0.3153, -0.0436,  0.0010,  0.2807, -0.0026,\n",
       "          0.1253,  0.1019],\n",
       "        [ 0.3145,  0.0417, -0.0187, -0.3259, -0.0184,  0.1378,  0.2520, -0.0461,\n",
       "          0.2473, -0.0163],\n",
       "        [ 0.2269, -0.0519,  0.0388, -0.2864,  0.0018,  0.1208,  0.2466, -0.0808,\n",
       "          0.2332, -0.0313],\n",
       "        [ 0.1559,  0.0122, -0.1324, -0.2470, -0.0341,  0.0795,  0.0857, -0.0515,\n",
       "          0.1935, -0.1412],\n",
       "        [ 0.2253, -0.0584, -0.1179, -0.2232, -0.0573, -0.0394,  0.0448,  0.0010,\n",
       "          0.1257, -0.1634],\n",
       "        [ 0.3298,  0.0025,  0.0381, -0.2699, -0.0686,  0.0538,  0.1937, -0.0718,\n",
       "          0.1208, -0.0661],\n",
       "        [ 0.2188, -0.0337, -0.0433, -0.2426, -0.0224, -0.0298,  0.1808, -0.0798,\n",
       "          0.1217, -0.1314],\n",
       "        [ 0.3546,  0.0130, -0.0065, -0.2780, -0.0361,  0.0984,  0.2257, -0.0081,\n",
       "          0.2357, -0.1360],\n",
       "        [ 0.1875,  0.0023,  0.0466, -0.2722, -0.0809, -0.1421,  0.1959, -0.0340,\n",
       "          0.1572, -0.0568],\n",
       "        [ 0.3187,  0.0357,  0.2629, -0.2808, -0.0638, -0.1184,  0.2468,  0.0393,\n",
       "          0.2491, -0.1036]], grad_fn=<AddmmBackward0>)"
      ]
     },
     "execution_count": 1,
     "metadata": {},
     "output_type": "execute_result"
    }
   ],
   "source": [
    "import torch\n",
    "from torch import nn\n",
    "from torch.nn import functional as F\n",
    "\n",
    "net = nn.Sequential(nn.Linear(20, 256), nn.ReLU(), nn.Linear(256, 10))\n",
    "\n",
    "X = torch.rand(10, 20)\n",
    "net(X)"
   ]
  },
  {
   "cell_type": "code",
   "execution_count": 2,
   "id": "17f5dd09-bd9c-4d5d-b1de-ed4aea0fe9a0",
   "metadata": {},
   "outputs": [],
   "source": [
    "class MLP(nn.Module):\n",
    "    def __init__(self):\n",
    "        super().__init__()\n",
    "        self.hidden = nn.Linear(20, 256)\n",
    "        self.out = nn.Linear(256, 10)\n",
    "\n",
    "    def forward(self, X):\n",
    "        return self.out(F.relu(self.hidden(X)))"
   ]
  },
  {
   "cell_type": "code",
   "execution_count": 3,
   "id": "dcd38336-d398-4fb1-9b7d-71d0753a3ac2",
   "metadata": {},
   "outputs": [
    {
     "data": {
      "text/plain": [
       "tensor([[ 1.1905e-02, -2.6367e-02, -8.3059e-02, -2.2929e-01, -7.8385e-03,\n",
       "          6.1433e-02,  1.1693e-01,  1.5389e-01,  6.4299e-02, -1.3140e-01],\n",
       "        [-3.9340e-02, -3.2572e-02,  1.4878e-02, -2.4865e-01, -9.3858e-02,\n",
       "          1.1065e-01, -1.0069e-01,  7.4219e-02,  9.5248e-02, -2.7511e-01],\n",
       "        [ 3.6508e-02, -6.0666e-02,  1.2162e-02, -1.2447e-01, -6.8028e-02,\n",
       "          5.6117e-02,  1.4561e-02,  7.9636e-03,  2.4116e-01, -1.1001e-02],\n",
       "        [-5.8175e-02, -2.5253e-02, -2.9138e-04, -6.9192e-02, -1.7567e-01,\n",
       "          1.4303e-01, -1.0876e-01,  1.2743e-01,  1.4495e-01, -1.8392e-01],\n",
       "        [-2.2578e-02,  2.0672e-02, -1.1990e-02, -1.7610e-01, -9.0742e-02,\n",
       "          4.2476e-02, -1.8612e-03,  2.1673e-01,  1.1551e-02, -2.0451e-01],\n",
       "        [ 6.8071e-02, -4.8287e-02, -1.0343e-01, -1.3681e-01, -8.3920e-02,\n",
       "          8.6183e-02, -2.2179e-02,  1.5684e-01,  7.0140e-02, -1.0524e-01],\n",
       "        [ 3.1428e-02, -1.2266e-01, -5.5288e-02,  9.6405e-02,  3.1277e-02,\n",
       "          2.9504e-02, -7.5215e-03,  2.8035e-02,  1.0301e-01, -1.8819e-01],\n",
       "        [ 2.1231e-03,  1.7063e-02, -1.5507e-02, -3.0288e-01, -8.5323e-02,\n",
       "          3.9212e-02, -8.4993e-04,  4.0595e-02,  3.8924e-02, -1.1186e-01],\n",
       "        [ 7.5594e-03,  2.8459e-02, -4.2446e-02, -1.6326e-01,  1.7532e-02,\n",
       "          1.3567e-01, -7.4812e-02,  1.8504e-02,  2.4269e-01, -1.6967e-01],\n",
       "        [-3.6045e-02, -1.2160e-01,  3.7198e-02, -1.7939e-01, -7.8752e-02,\n",
       "          6.0211e-02, -4.1112e-02,  8.8178e-02,  5.3946e-02, -1.6858e-01]],\n",
       "       grad_fn=<AddmmBackward0>)"
      ]
     },
     "execution_count": 3,
     "metadata": {},
     "output_type": "execute_result"
    }
   ],
   "source": [
    "X = torch.rand(10, 20)\n",
    "net_2 = MLP()\n",
    "net_2(X)"
   ]
  },
  {
   "cell_type": "code",
   "execution_count": 10,
   "id": "f888bc5e-221e-4565-ac5a-dbe2c45ccac1",
   "metadata": {},
   "outputs": [],
   "source": [
    "class MySequential(nn.Module):\n",
    "    def __init__(self, *args):\n",
    "        super().__init__\n",
    "        for idx, module in enumerate(args):\n",
    "            self._modules[str(idx)] = module\n",
    "    def forward(self, X):\n",
    "        for block in self._modules.values():\n",
    "            X = block(X)\n",
    "        return X"
   ]
  },
  {
   "cell_type": "code",
   "execution_count": 11,
   "id": "e7554a46-4308-4341-bfd0-7599762e65d5",
   "metadata": {},
   "outputs": [
    {
     "ename": "AttributeError",
     "evalue": "'MySequential' object has no attribute '_modules'",
     "output_type": "error",
     "traceback": [
      "\u001b[1;31m---------------------------------------------------------------------------\u001b[0m",
      "\u001b[1;31mAttributeError\u001b[0m                            Traceback (most recent call last)",
      "Cell \u001b[1;32mIn[11], line 2\u001b[0m\n\u001b[0;32m      1\u001b[0m X \u001b[38;5;241m=\u001b[39m torch\u001b[38;5;241m.\u001b[39mrand(\u001b[38;5;241m10\u001b[39m, \u001b[38;5;241m20\u001b[39m)\n\u001b[1;32m----> 2\u001b[0m net \u001b[38;5;241m=\u001b[39m MySequential(nn\u001b[38;5;241m.\u001b[39mLinear(\u001b[38;5;241m20\u001b[39m,\u001b[38;5;241m256\u001b[39m), nn\u001b[38;5;241m.\u001b[39mReLU(), nn\u001b[38;5;241m.\u001b[39mLinear(\u001b[38;5;241m256\u001b[39m,\u001b[38;5;241m10\u001b[39m))\n\u001b[0;32m      3\u001b[0m net(X)\n",
      "Cell \u001b[1;32mIn[10], line 5\u001b[0m, in \u001b[0;36mMySequential.__init__\u001b[1;34m(self, *args)\u001b[0m\n\u001b[0;32m      3\u001b[0m \u001b[38;5;28msuper\u001b[39m()\u001b[38;5;241m.\u001b[39m\u001b[38;5;21m__init__\u001b[39m\n\u001b[0;32m      4\u001b[0m \u001b[38;5;28;01mfor\u001b[39;00m idx, module \u001b[38;5;129;01min\u001b[39;00m \u001b[38;5;28menumerate\u001b[39m(args):\n\u001b[1;32m----> 5\u001b[0m     \u001b[38;5;28mself\u001b[39m\u001b[38;5;241m.\u001b[39m_modules[\u001b[38;5;28mstr\u001b[39m(idx)] \u001b[38;5;241m=\u001b[39m module\n",
      "File \u001b[1;32m~\\anaconda3\\envs\\match\\Lib\\site-packages\\torch\\nn\\modules\\module.py:1931\u001b[0m, in \u001b[0;36mModule.__getattr__\u001b[1;34m(self, name)\u001b[0m\n\u001b[0;32m   1929\u001b[0m     \u001b[38;5;28;01mif\u001b[39;00m name \u001b[38;5;129;01min\u001b[39;00m modules:\n\u001b[0;32m   1930\u001b[0m         \u001b[38;5;28;01mreturn\u001b[39;00m modules[name]\n\u001b[1;32m-> 1931\u001b[0m \u001b[38;5;28;01mraise\u001b[39;00m \u001b[38;5;167;01mAttributeError\u001b[39;00m(\n\u001b[0;32m   1932\u001b[0m     \u001b[38;5;124mf\u001b[39m\u001b[38;5;124m\"\u001b[39m\u001b[38;5;124m'\u001b[39m\u001b[38;5;132;01m{\u001b[39;00m\u001b[38;5;28mtype\u001b[39m(\u001b[38;5;28mself\u001b[39m)\u001b[38;5;241m.\u001b[39m\u001b[38;5;18m__name__\u001b[39m\u001b[38;5;132;01m}\u001b[39;00m\u001b[38;5;124m'\u001b[39m\u001b[38;5;124m object has no attribute \u001b[39m\u001b[38;5;124m'\u001b[39m\u001b[38;5;132;01m{\u001b[39;00mname\u001b[38;5;132;01m}\u001b[39;00m\u001b[38;5;124m'\u001b[39m\u001b[38;5;124m\"\u001b[39m\n\u001b[0;32m   1933\u001b[0m )\n",
      "\u001b[1;31mAttributeError\u001b[0m: 'MySequential' object has no attribute '_modules'"
     ]
    }
   ],
   "source": [
    "X = torch.rand(10, 20)\n",
    "net = MySequential(nn.Linear(20,256), nn.ReLU(), nn.Linear(256,10))\n",
    "net(X)"
   ]
  },
  {
   "cell_type": "code",
   "execution_count": null,
   "id": "0e760ada-b848-47af-98b8-d13612df881a",
   "metadata": {},
   "outputs": [],
   "source": []
  }
 ],
 "metadata": {
  "kernelspec": {
   "display_name": "Python 3 (ipykernel)",
   "language": "python",
   "name": "python3"
  },
  "language_info": {
   "codemirror_mode": {
    "name": "ipython",
    "version": 3
   },
   "file_extension": ".py",
   "mimetype": "text/x-python",
   "name": "python",
   "nbconvert_exporter": "python",
   "pygments_lexer": "ipython3",
   "version": "3.12.4"
  }
 },
 "nbformat": 4,
 "nbformat_minor": 5
}
